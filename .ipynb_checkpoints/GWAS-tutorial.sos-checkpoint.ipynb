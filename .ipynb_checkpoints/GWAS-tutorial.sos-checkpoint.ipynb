{
 "cells": [
  {
   "cell_type": "markdown",
   "metadata": {
    "kernel": "SoS"
   },
   "source": [
    "# GWAS-tutorial\n",
    "This tutorial will cover the main steps for the quality control before GWAS."
   ]
  },
  {
   "cell_type": "markdown",
   "metadata": {
    "kernel": "SoS"
   },
   "source": [
    "### GWAS in 5 steps\n",
    "1. [sexcheck](#sexcheck)\n",
    "2. [QC](#QC)\n",
    "3. [relatedness check](#relatedness)\n",
    "4. [PCA](#PCA)\n",
    "5. [Association analysis](#glm)"
   ]
  },
  {
   "cell_type": "markdown",
   "metadata": {
    "kernel": "SoS"
   },
   "source": [
    "First we will simulate genotyping data to work with. For that, we will use a template from the [Illumina GSA](https://www.illumina.com/products/by-type/microarray-kits/infinium-global-screening.html) chip. We will create ~ 600 significant associations on chromosome 22."
   ]
  },
  {
   "cell_type": "code",
   "execution_count": 1,
   "metadata": {
    "kernel": "Bash",
    "scrolled": false
   },
   "outputs": [
    {
     "name": "stdout",
     "output_type": "stream",
     "text": [
      "PLINK v1.90b6.17 64-bit (28 Apr 2020)          www.cog-genomics.org/plink/1.9/\r\n",
      "(C) 2005-2020 Shaun Purcell, Christopher Chang   GNU General Public License v3\r\n",
      "Logging to GSA_sim.log.\r\n",
      "Options in effect:\r\n",
      "  --make-bed\r\n",
      "  --out GSA_sim\r\n",
      "  --simulate wgas.sim\r\n",
      "  --simulate-ncases 50\r\n",
      "  --simulate-ncontrols 50\r\n",
      "\r\n",
      "15877 MB RAM detected; reserving 7938 MB for main workspace.\r\n",
      "Writing --simulate dataset to GSA_sim-temporary.bed + GSA_sim-temporary.bim +\r\n",
      "GSA_sim-temporary.fam ... 0%\b\b1%\b\b2%\b\b3%\b\b4%\b\b5%\b\b6%\b\b7%\b\b8%\b\b9%\b\b10%\b\b\b11%\b\b\b12%\b\b\b13%\b\b\b14%\b\b\b15%\b\b\b16%\b\b\b17%\b\b\b18%\b\b\b19%\b\b\b20%\b\b\b21%\b\b\b22%\b\b\b23%\b\b\b24%\b\b\b25%\b\b\b26%\b\b\b27%\b\b\b28%\b\b\b29%\b\b\b30%\b\b\b31%\b\b\b32%\b\b\b33%\b\b\b34%\b\b\b35%\b\b\b36%\b\b\b37%\b\b\b38%\b\b\b39%\b\b\b40%\b\b\b41%\b\b\b42%\b\b\b43%\b\b\b44%\b\b\b45%\b\b\b46%\b\b\b47%\b\b\b48%\b\b\b49%\b\b\b50%\b\b\b51%\b\b\b52%\b\b\b53%\b\b\b54%\b\b\b55%\b\b\b56%\b\b\b57%\b\b\b58%\b\b\b59%\b\b\b60%\b\b\b61%\b\b\b62%\b\b\b63%\b\b\b64%\b\b\b65%\b\b\b66%\b\b\b67%\b\b\b68%\b\b\b69%\b\b\b70%\b\b\b71%\b\b\b72%\b\b\b73%\b\b\b74%\b\b\b75%\b\b\b76%\b\b\b77%\b\b\b78%\b\b\b79%\b\b\b80%\b\b\b81%\b\b\b82%\b\b\b83%\b\b\b84%\b\b\b85%\b\b\b86%\b\b\b87%\b\b\b88%\b\b\b89%\b\b\b90%\b\b\b91%\b\b\b92%\b\b\b93%\b\b\b94%\b\b\b95%\b\b\b96%\b\b\b97%\b\b\b98%\b\b\b99%\b\b\bdone.\r\n",
      "Realized simulation parameters saved to GSA_sim-temporary.simfreq.\r\n",
      "604871 variants loaded from .bim file.\r\n",
      "100 people (0 males, 100 females) loaded from .fam.\r\n",
      "100 phenotype values loaded from .fam.\r\n",
      "Using 1 thread (no multithreaded calculations invoked).\r\n",
      "Before main variant filters, 100 founders and 0 nonfounders present.\r\n",
      "Calculating allele frequencies... 0%\b\b1%\b\b2%\b\b3%\b\b4%\b\b5%\b\b6%\b\b7%\b\b8%\b\b9%\b\b10%\b\b\b11%\b\b\b12%\b\b\b13%\b\b\b14%\b\b\b15%\b\b\b16%\b\b\b17%\b\b\b18%\b\b\b19%\b\b\b20%\b\b\b21%\b\b\b22%\b\b\b23%\b\b\b24%\b\b\b25%\b\b\b26%\b\b\b27%\b\b\b28%\b\b\b29%\b\b\b30%\b\b\b31%\b\b\b32%\b\b\b33%\b\b\b34%\b\b\b35%\b\b\b36%\b\b\b37%\b\b\b38%\b\b\b39%\b\b\b40%\b\b\b41%\b\b\b42%\b\b\b43%\b\b\b44%\b\b\b45%\b\b\b46%\b\b\b47%\b\b\b48%\b\b\b49%\b\b\b50%\b\b\b51%\b\b\b52%\b\b\b53%\b\b\b54%\b\b\b55%\b\b\b56%\b\b\b57%\b\b\b58%\b\b\b59%\b\b\b60%\b\b\b61%\b\b\b62%\b\b\b63%\b\b\b64%\b\b\b65%\b\b\b66%\b\b\b67%\b\b\b68%\b\b\b69%\b\b\b70%\b\b\b71%\b\b\b72%\b\b\b73%\b\b\b74%\b\b\b75%\b\b\b76%\b\b\b77%\b\b\b78%\b\b\b79%\b\b\b80%\b\b\b81%\b\b\b82%\b\b\b83%\b\b\b84%\b\b\b85%\b\b\b86%\b\b\b87%\b\b\b88%\b\b\b89%\b\b\b90%\b\b\b91%\b\b\b92%\b\b\b93%\b\b\b94%\b\b\b95%\b\b\b96%\b\b\b97%\b\b\b98%\b\b\b99%\b\b\b\b done.\r\n",
      "604871 variants and 100 people pass filters and QC.\r\n",
      "Among remaining phenotypes, 50 are cases and 50 are controls.\r\n",
      "--make-bed to GSA_sim.bed + GSA_sim.bim + GSA_sim.fam ... 0%\b\b1%\b\b2%\b\b3%\b\b4%\b\b5%\b\b6%\b\b7%\b\b8%\b\b9%\b\b10%\b\b\b11%\b\b\b12%\b\b\b13%\b\b\b14%\b\b\b15%\b\b\b16%\b\b\b17%\b\b\b18%\b\b\b19%\b\b\b20%\b\b\b21%\b\b\b22%\b\b\b23%\b\b\b24%\b\b\b25%\b\b\b26%\b\b\b27%\b\b\b28%\b\b\b29%\b\b\b30%\b\b\b31%\b\b\b32%\b\b\b33%\b\b\b34%\b\b\b35%\b\b\b36%\b\b\b37%\b\b\b38%\b\b\b39%\b\b\b40%\b\b\b41%\b\b\b42%\b\b\b43%\b\b\b44%\b\b\b45%\b\b\b46%\b\b\b47%\b\b\b48%\b\b\b49%\b\b\b50%\b\b\b51%\b\b\b52%\b\b\b53%\b\b\b54%\b\b\b55%\b\b\b56%\b\b\b57%\b\b\b58%\b\b\b59%\b\b\b60%\b\b\b61%\b\b\b62%\b\b\b63%\b\b\b64%\b\b\b65%\b\b\b66%\b\b\b67%\b\b\b68%\b\b\b69%\b\b\b70%\b\b\b71%\b\b\b72%\b\b\b73%\b\b\b74%\b\b\b75%\b\b\b76%\b\b\b77%\b\b\b78%\b\b\b79%\b\b\b80%\b\b\b81%\b\b\b82%\b\b\b83%\b\b\b84%\b\b\b85%\b\b\b86%\b\b\b87%\b\b\b88%\b\b\b89%\b\b\b90%\b\b\b91%\b\b\b92%\b\b\b93%\b\b\b94%\b\b\b95%\b\b\b96%\b\b\b97%\b\b\b98%\b\b\b99%\b\b\bdone.\r\n",
      "PLINK v1.90b6.17 64-bit (28 Apr 2020)          www.cog-genomics.org/plink/1.9/\r\n",
      "(C) 2005-2020 Shaun Purcell, Christopher Chang   GNU General Public License v3\r\n",
      "Logging to GSA_sim_chr_temp.log.\r\n",
      "Options in effect:\r\n",
      "  --bfile GSA_sim\r\n",
      "  --make-bed\r\n",
      "  --out GSA_sim_chr_temp\r\n",
      "  --update-chr /dev/fd/63\r\n",
      "  --update-map /dev/fd/62\r\n",
      "\r\n",
      "15877 MB RAM detected; reserving 7938 MB for main workspace.\r\n",
      "604871 variants loaded from .bim file.\r\n",
      "100 people (0 males, 100 females) loaded from .fam.\r\n",
      "100 phenotype values loaded from .fam.\r\n",
      "--update-map: 604871 values updated.\r\n",
      "Warning: Base-pair positions are now unsorted!\r\n",
      "Using 1 thread (no multithreaded calculations invoked).\r\n",
      "Before main variant filters, 100 founders and 0 nonfounders present.\r\n",
      "Calculating allele frequencies... 0%\b\b1%\b\b2%\b\b3%\b\b4%\b\b5%\b\b6%\b\b7%\b\b8%\b\b9%\b\b10%\b\b\b11%\b\b\b12%\b\b\b13%\b\b\b14%\b\b\b15%\b\b\b16%\b\b\b17%\b\b\b18%\b\b\b19%\b\b\b20%\b\b\b21%\b\b\b22%\b\b\b23%\b\b\b24%\b\b\b25%\b\b\b26%\b\b\b27%\b\b\b28%\b\b\b29%\b\b\b30%\b\b\b31%\b\b\b32%\b\b\b33%\b\b\b34%\b\b\b35%\b\b\b36%\b\b\b37%\b\b\b38%\b\b\b39%\b\b\b40%\b\b\b41%\b\b\b42%\b\b\b43%\b\b\b44%\b\b\b45%\b\b\b46%\b\b\b47%\b\b\b48%\b\b\b49%\b\b\b50%\b\b\b51%\b\b\b52%\b\b\b53%\b\b\b54%\b\b\b55%\b\b\b56%\b\b\b57%\b\b\b58%\b\b\b59%\b\b\b60%\b\b\b61%\b\b\b62%\b\b\b63%\b\b\b64%\b\b\b65%\b\b\b66%\b\b\b67%\b\b\b68%\b\b\b69%\b\b\b70%\b\b\b71%\b\b\b72%\b\b\b73%\b\b\b74%\b\b\b75%\b\b\b76%\b\b\b77%\b\b\b78%\b\b\b79%\b\b\b80%\b\b\b81%\b\b\b82%\b\b\b83%\b\b\b84%\b\b\b85%\b\b\b86%\b\b\b87%\b\b\b88%\b\b\b89%\b\b\b90%\b\b\b91%\b\b\b92%\b\b\b93%\b\b\b94%\b\b\b95%\b\b\b96%\b\b\b97%\b\b\b98%\b\b\b99%\b\b\b\b done.\r\n",
      "604871 variants and 100 people pass filters and QC.\r\n",
      "Among remaining phenotypes, 50 are cases and 50 are controls.\r\n",
      "--update-chr: 604871 values updated.\r\n",
      "--make-bed to GSA_sim_chr_temp.bed + GSA_sim_chr_temp.bim +\r\n",
      "GSA_sim_chr_temp.fam ... 0%\b\b0%\b\b1%\b\b1%\b\b2%\b\b2%\b\b3%\b\b3%\b\b4%\b\b4%\b\b5%\b\b5%\b\b6%\b\b6%\b\b7%\b\b7%\b\b8%\b\b8%\b\b9%\b\b9%\b\b10%\b\b\b10%\b\b\b11%\b\b\b11%\b\b\b12%\b\b\b12%\b\b\b13%\b\b\b13%\b\b\b14%\b\b\b14%\b\b\b15%\b\b\b15%\b\b\b16%\b\b\b16%\b\b\b17%\b\b\b17%\b\b\b18%\b\b\b18%\b\b\b19%\b\b\b19%\b\b\b20%\b\b\b20%\b\b\b21%\b\b\b21%\b\b\b22%\b\b\b22%\b\b\b23%\b\b\b23%\b\b\b24%\b\b\b24%\b\b\b25%\b\b\b25%\b\b\b26%\b\b\b26%\b\b\b27%\b\b\b27%\b\b\b28%\b\b\b28%\b\b\b29%\b\b\b29%\b\b\b30%\b\b\b30%\b\b\b31%\b\b\b31%\b\b\b32%\b\b\b32%\b\b\b33%\b\b\b33%\b\b\b34%\b\b\b34%\b\b\b35%\b\b\b35%\b\b\b36%\b\b\b36%\b\b\b37%\b\b\b37%\b\b\b38%\b\b\b38%\b\b\b39%\b\b\b39%\b\b\b40%\b\b\b40%\b\b\b41%\b\b\b41%\b\b\b42%\b\b\b42%\b\b\b43%\b\b\b43%\b\b\b44%\b\b\b44%\b\b\b45%\b\b\b45%\b\b\b46%\b\b\b46%\b\b\b47%\b\b\b47%\b\b\b48%\b\b\b48%\b\b\b49%\b\b\b49%\b\b\b50%\b\b\b50%\b\b\b51%\b\b\b51%\b\b\b52%\b\b\b52%\b\b\b53%\b\b\b53%\b\b\b54%\b\b\b54%\b\b\b55%\b\b\b55%\b\b\b56%\b\b\b56%\b\b\b57%\b\b\b57%\b\b\b58%\b\b\b58%\b\b\b59%\b\b\b59%\b\b\b60%\b\b\b60%\b\b\b61%\b\b\b61%\b\b\b62%\b\b\b62%\b\b\b63%\b\b\b63%\b\b\b64%\b\b\b64%\b\b\b65%\b\b\b65%\b\b\b66%\b\b\b66%\b\b\b67%\b\b\b67%\b\b\b68%\b\b\b68%\b\b\b69%\b\b\b69%\b\b\b70%\b\b\b70%\b\b\b71%\b\b\b71%\b\b\b72%\b\b\b72%\b\b\b73%\b\b\b73%\b\b\b74%\b\b\b74%\b\b\b75%\b\b\b75%\b\b\b76%\b\b\b76%\b\b\b77%\b\b\b77%\b\b\b78%\b\b\b78%\b\b\b79%\b\b\b79%\b\b\b80%\b\b\b80%\b\b\b81%\b\b\b81%\b\b\b82%\b\b\b82%\b\b\b83%\b\b\b83%\b\b\b84%\b\b\b84%\b\b\b85%\b\b\b85%\b\b\b86%\b\b\b86%\b\b\b87%\b\b\b87%\b\b\b88%\b\b\b88%\b\b\b89%\b\b\b89%\b\b\b90%\b\b\b90%\b\b\b91%\b\b\b91%\b\b\b92%\b\b\b92%\b\b\b93%\b\b\b93%\b\b\b94%\b\b\b94%\b\b\b95%\b\b\b95%\b\b\b96%\b\b\b96%\b\b\b97%\b\b\b97%\b\b\b98%\b\b\b98%\b\b\b99%\b\b\bdone.\r\n",
      "PLINK v1.90b6.17 64-bit (28 Apr 2020)          www.cog-genomics.org/plink/1.9/\r\n",
      "(C) 2005-2020 Shaun Purcell, Christopher Chang   GNU General Public License v3\r\n",
      "Logging to GSA_sim_chr_id_temp.log.\r\n",
      "Options in effect:\r\n",
      "  --bfile GSA_sim_chr_temp\r\n",
      "  --make-bed\r\n",
      "  --out GSA_sim_chr_id_temp\r\n",
      "  --update-name GSA_sim_id_temp\r\n",
      "\r\n",
      "15877 MB RAM detected; reserving 7938 MB for main workspace.\r\n",
      "604871 variants loaded from .bim file.\r\n",
      "100 people (0 males, 100 females) loaded from .fam.\r\n",
      "100 phenotype values loaded from .fam.\r\n",
      "--update-name: 604871 values updated.\r\n",
      "Using 1 thread (no multithreaded calculations invoked).\r\n",
      "Before main variant filters, 100 founders and 0 nonfounders present.\r\n",
      "Calculating allele frequencies... 0%\b\b1%\b\b2%\b\b3%\b\b4%\b\b5%\b\b6%\b\b7%\b\b8%\b\b9%\b\b10%\b\b\b11%\b\b\b12%\b\b\b13%\b\b\b14%\b\b\b15%\b\b\b16%\b\b\b17%\b\b\b18%\b\b\b19%\b\b\b20%\b\b\b21%\b\b\b22%\b\b\b23%\b\b\b24%\b\b\b25%\b\b\b26%\b\b\b27%\b\b\b28%\b\b\b29%\b\b\b30%\b\b\b31%\b\b\b32%\b\b\b33%\b\b\b34%\b\b\b35%\b\b\b36%\b\b\b37%\b\b\b38%\b\b\b39%\b\b\b40%\b\b\b41%\b\b\b42%\b\b\b43%\b\b\b44%\b\b\b45%\b\b\b46%\b\b\b47%\b\b\b48%\b\b\b49%\b\b\b50%\b\b\b51%\b\b\b52%\b\b\b53%\b\b\b54%\b\b\b55%\b\b\b56%\b\b\b57%\b\b\b58%\b\b\b59%\b\b\b60%\b\b\b61%\b\b\b62%\b\b\b63%\b\b\b64%\b\b\b65%\b\b\b66%\b\b\b67%\b\b\b68%\b\b\b69%\b\b\b70%\b\b\b71%\b\b\b72%\b\b\b73%\b\b\b74%\b\b\b75%\b\b\b76%\b\b\b77%\b\b\b78%\b\b\b79%\b\b\b80%\b\b\b81%\b\b\b82%\b\b\b83%\b\b\b84%\b\b\b85%\b\b\b86%\b\b\b87%\b\b\b88%\b\b\b89%\b\b\b90%\b\b\b91%\b\b\b92%\b\b\b93%\b\b\b94%\b\b\b95%\b\b\b96%\b\b\b97%\b\b\b98%\b\b\b99%\b\b\b\b done.\r\n",
      "Warning: Nonmissing nonmale Y chromosome genotype(s) present; many commands\r\n",
      "treat these as missing.\r\n",
      "604871 variants and 100 people pass filters and QC.\r\n",
      "Among remaining phenotypes, 50 are cases and 50 are controls.\r\n",
      "--make-bed to GSA_sim_chr_id_temp.bed + GSA_sim_chr_id_temp.bim +\r\n",
      "GSA_sim_chr_id_temp.fam ... 0%\b\b1%\b\b2%\b\b3%\b\b4%\b\b5%\b\b6%\b\b7%\b\b8%\b\b9%\b\b10%\b\b\b11%\b\b\b12%\b\b\b13%\b\b\b14%\b\b\b15%\b\b\b16%\b\b\b17%\b\b\b18%\b\b\b19%\b\b\b20%\b\b\b21%\b\b\b22%\b\b\b23%\b\b\b24%\b\b\b25%\b\b\b26%\b\b\b27%\b\b\b28%\b\b\b29%\b\b\b30%\b\b\b31%\b\b\b32%\b\b\b33%\b\b\b34%\b\b\b35%\b\b\b36%\b\b\b37%\b\b\b38%\b\b\b39%\b\b\b40%\b\b\b41%\b\b\b42%\b\b\b43%\b\b\b44%\b\b\b45%\b\b\b46%\b\b\b47%\b\b\b48%\b\b\b49%\b\b\b50%\b\b\b51%\b\b\b52%\b\b\b53%\b\b\b54%\b\b\b55%\b\b\b56%\b\b\b57%\b\b\b58%\b\b\b59%\b\b\b60%\b\b\b61%\b\b\b62%\b\b\b63%\b\b\b64%\b\b\b65%\b\b\b66%\b\b\b67%\b\b\b68%\b\b\b69%\b\b\b70%\b\b\b71%\b\b\b72%\b\b\b73%\b\b\b74%\b\b\b75%\b\b\b76%\b\b\b77%\b\b\b78%\b\b\b79%\b\b\b80%\b\b\b81%\b\b\b82%\b\b\b83%\b\b\b84%\b\b\b85%\b\b\b86%\b\b\b87%\b\b\b88%\b\b\b89%\b\b\b90%\b\b\b91%\b\b\b92%\b\b\b93%\b\b\b94%\b\b\b95%\b\b\b96%\b\b\b97%\b\b\b98%\b\b\b99%\b\b\bdone.\r\n",
      "PLINK v1.90b6.17 64-bit (28 Apr 2020)          www.cog-genomics.org/plink/1.9/\r\n",
      "(C) 2005-2020 Shaun Purcell, Christopher Chang   GNU General Public License v3\r\n",
      "Logging to GSA_sim_chr_id_temp_nodup.log.\r\n",
      "Options in effect:\r\n",
      "  --bfile GSA_sim_chr_id_temp\r\n",
      "  --exclude /dev/fd/63\r\n",
      "  --make-bed\r\n",
      "  --out GSA_sim_chr_id_temp_nodup\r\n",
      "\r\n",
      "15877 MB RAM detected; reserving 7938 MB for main workspace.\r\n",
      "604871 variants loaded from .bim file.\r\n",
      "100 people (0 males, 100 females) loaded from .fam.\r\n",
      "100 phenotype values loaded from .fam.\r\n",
      "--exclude: 604871 variants remaining.\r\n",
      "Using 1 thread (no multithreaded calculations invoked).\r\n",
      "Before main variant filters, 100 founders and 0 nonfounders present.\r\n",
      "Calculating allele frequencies... 0%\b\b1%\b\b2%\b\b3%\b\b4%\b\b5%\b\b6%\b\b7%\b\b8%\b\b9%\b\b10%\b\b\b11%\b\b\b12%\b\b\b13%\b\b\b14%\b\b\b15%\b\b\b16%\b\b\b17%\b\b\b18%\b\b\b19%\b\b\b20%\b\b\b21%\b\b\b22%\b\b\b23%\b\b\b24%\b\b\b25%\b\b\b26%\b\b\b27%\b\b\b28%\b\b\b29%\b\b\b30%\b\b\b31%\b\b\b32%\b\b\b33%\b\b\b34%\b\b\b35%\b\b\b36%\b\b\b37%\b\b\b38%\b\b\b39%\b\b\b40%\b\b\b41%\b\b\b42%\b\b\b43%\b\b\b44%\b\b\b45%\b\b\b46%\b\b\b47%\b\b\b48%\b\b\b49%\b\b\b50%\b\b\b51%\b\b\b52%\b\b\b53%\b\b\b54%\b\b\b55%\b\b\b56%\b\b\b57%\b\b\b58%\b\b\b59%\b\b\b60%\b\b\b61%\b\b\b62%\b\b\b63%\b\b\b64%\b\b\b65%\b\b\b66%\b\b\b67%\b\b\b68%\b\b\b69%\b\b\b70%\b\b\b71%\b\b\b72%\b\b\b73%\b\b\b74%\b\b\b75%\b\b\b76%\b\b\b77%\b\b\b78%\b\b\b79%\b\b\b80%\b\b\b81%\b\b\b82%\b\b\b83%\b\b\b84%\b\b\b85%\b\b\b86%\b\b\b87%\b\b\b88%\b\b\b89%\b\b\b90%\b\b\b91%\b\b\b92%\b\b\b93%\b\b\b94%\b\b\b95%\b\b\b96%\b\b\b97%\b\b\b98%\b\b\b99%\b\b\b\b done.\r\n",
      "Warning: Nonmissing nonmale Y chromosome genotype(s) present; many commands\r\n",
      "treat these as missing.\r\n",
      "604871 variants and 100 people pass filters and QC.\r\n",
      "Among remaining phenotypes, 50 are cases and 50 are controls.\r\n",
      "--make-bed to GSA_sim_chr_id_temp_nodup.bed + GSA_sim_chr_id_temp_nodup.bim +\r\n",
      "GSA_sim_chr_id_temp_nodup.fam ... 0%\b\b1%\b\b2%\b\b3%\b\b4%\b\b5%\b\b6%\b\b7%\b\b8%\b\b9%\b\b10%\b\b\b11%\b\b\b12%\b\b\b13%\b\b\b14%\b\b\b15%\b\b\b16%\b\b\b17%\b\b\b18%\b\b\b19%\b\b\b20%\b\b\b21%\b\b\b22%\b\b\b23%\b\b\b24%\b\b\b25%\b\b\b26%\b\b\b27%\b\b\b28%\b\b\b29%\b\b\b30%\b\b\b31%\b\b\b32%\b\b\b33%\b\b\b34%\b\b\b35%\b\b\b36%\b\b\b37%\b\b\b38%\b\b\b39%\b\b\b40%\b\b\b41%\b\b\b42%\b\b\b43%\b\b\b44%\b\b\b45%\b\b\b46%\b\b\b47%\b\b\b48%\b\b\b49%\b\b\b50%\b\b\b51%\b\b\b52%\b\b\b53%\b\b\b54%\b\b\b55%\b\b\b56%\b\b\b57%\b\b\b58%\b\b\b59%\b\b\b60%\b\b\b61%\b\b\b62%\b\b\b63%\b\b\b64%\b\b\b65%\b\b\b66%\b\b\b67%\b\b\b68%\b\b\b69%\b\b\b70%\b\b\b71%\b\b\b72%\b\b\b73%\b\b\b74%\b\b\b75%\b\b\b76%\b\b\b77%\b\b\b78%\b\b\b79%\b\b\b80%\b\b\b81%\b\b\b82%\b\b\b83%\b\b\b84%\b\b\b85%\b\b\b86%\b\b\b87%\b\b\b88%\b\b\b89%\b\b\b90%\b\b\b91%\b\b\b92%\b\b\b93%\b\b\b94%\b\b\b95%\b\b\b96%\b\b\b97%\b\b\b98%\b\b\b99%\b\b\bdone.\r\n",
      "\n"
     ]
    }
   ],
   "source": [
    "# declaring variables\n",
    "bfile=\"GSA_sim\"\n",
    "GSA_bim=\"data/GSA.bim\"\n",
    "n_lines_bim=$(wc -l < ${GSA_bim})\n",
    "n_assoc=600\n",
    "n_tail=22000\n",
    "\n",
    "n_lines_bim_noassoc=$(echo ${n_lines_bim} - ${n_assoc} - ${n_tail} | bc)\n",
    "echo \"${n_lines_bim_noassoc} null_A 0.00 1.00 1.00 1.00\n",
    "${n_assoc} disease 0.00 1.00 4.00 mult\n",
    "${n_tail} null_B 0.00 1.00 1.00 1.00\" > wgas.sim\n",
    "./plink --simulate wgas.sim \\\n",
    "--simulate-ncases 50 --simulate-ncontrols 50 \\\n",
    "--make-bed --out ${bfile}\n",
    "\n",
    "./plink --bfile ${bfile} \\\n",
    "--update-chr <(paste <(awk '{print $2}' ${bfile}.bim) \\\n",
    "<(awk '{print $1}' ${GSA_bim})) \\\n",
    "--update-map <(paste <(awk '{print $2}' ${bfile}.bim) \\\n",
    "<(awk '{print $4}' ${GSA_bim})) \\\n",
    "--make-bed --out ${bfile}_chr_temp\n",
    "\n",
    "paste <(awk '{print $2}' ${bfile}.bim) \\\n",
    "<(awk '{print $2}' ${GSA_bim}) > ${bfile}_id_temp\n",
    "\n",
    "./plink --bfile ${bfile}_chr_temp \\\n",
    "--update-name ${bfile}_id_temp \\\n",
    "--make-bed --out ${bfile}_chr_id_temp\n",
    "\n",
    "./plink --bfile ${bfile}_chr_id_temp \\\n",
    "--exclude <(awk '{print $2}' ${bfile}_chr_id_temp.bim | sort | uniq -c | awk '{if ($1 > 1) print $2}') \\\n",
    "--make-bed --out ${bfile}_chr_id_temp_nodup"
   ]
  },
  {
   "cell_type": "code",
   "execution_count": 2,
   "metadata": {
    "kernel": "R"
   },
   "outputs": [
    {
     "ename": "RuntimeError",
     "evalue": "Failed to start kernel \"R\". Kernel died before replying to kernel_info\nError Message:\nError in library(ggplot2) : there is no package called ‘ggplot2’\nExecution halted\n",
     "output_type": "error",
     "traceback": [
      "\u001b[91mFailed to start kernel \"R\". Kernel died before replying to kernel_info\nError Message:\nError in library(ggplot2) : there is no package called ‘ggplot2’\nExecution halted\n\u001b[0m"
     ]
    }
   ],
   "source": [
    "library(data.table)\n",
    "bfile=\"GSA_sim_chr_id_temp_nodup.bim\"\n",
    "GSA_bim=\"data/GSA.bim\"\n",
    "sim=fread(bfile)\n",
    "gsa=fread(GSA_bim)\n",
    "gsa=gsa[V2 %in% sim[[2]]]\n",
    "gsa_sim=merge(gsa, sim, by='V2')\n",
    "gsa_sim=gsa_sim[match(sim[[2]],gsa_sim[[1]])]\n",
    "fwrite(gsa_sim[,c(1,10,11,5,6)], paste0(bfile, '_updids'), sep=' ', col.names=F, na=NA, quote=F)\n"
   ]
  },
  {
   "cell_type": "code",
   "execution_count": null,
   "metadata": {
    "kernel": "Bash"
   },
   "outputs": [],
   "source": [
    "bfile=\"GSA_sim\"\n",
    "./plink --bfile ${bfile}_chr_id_temp_nodup \\\n",
    "--update-alleles ${bfile}_chr_id_temp_nodup.bim_updids \\\n",
    "--make-bed --out ${bfile}\n",
    "rm ${bfile}*temp*"
   ]
  },
  {
   "cell_type": "markdown",
   "metadata": {
    "kernel": "SoS"
   },
   "source": [
    "### sexcheck"
   ]
  },
  {
   "cell_type": "code",
   "execution_count": null,
   "metadata": {
    "kernel": "Bash"
   },
   "outputs": [],
   "source": [
    "# checking sex of samples using X-chromosome\n",
    "bfile=\"GSA_sim\"\n",
    "./plink2 --bfile ${bfile} --chr 23 --indep-pairwise 1000 50 0.2 --out ${bfile}_pruning\n",
    "./plink2 --bfile ${bfile} --extract <(cat ${bfile}_pruning.prune.in) \\\n",
    "--make-bed --out ${bfile}_pruning\n",
    "./plink --bfile ${bfile}_pruning --check-sex --out ${bfile}_sexcheck\n",
    "rm ${bfile}_pruning*\n"
   ]
  },
  {
   "cell_type": "code",
   "execution_count": null,
   "metadata": {
    "kernel": "R",
    "scrolled": true
   },
   "outputs": [],
   "source": [
    "library(data.table)\n",
    "# listing samples with incorrect sex assignment\n",
    "bfile=\"GSA_sim\"\n",
    "bfile=fread(paste0(bfile, \"_sexcheck.sexcheck\"))\n",
    "print(bfile[STATUS != \"OK\"])\n",
    "ggplot(bfile, aes(x=F)) +\n",
    "    geom_histogram()"
   ]
  },
  {
   "cell_type": "code",
   "execution_count": null,
   "metadata": {
    "kernel": "Bash"
   },
   "outputs": [],
   "source": [
    "# If any samples had incorrect sex,\n",
    "# this command can update sex and remove samples where sex was not determined\n",
    "bfile=\"GSA_sim\"\n",
    "./plink --bfile ${bfile} \\\n",
    "--update-sex <(awk '{if ($5 == \"PROBLEM\") print $1,$2,$4}' ${bfile}_sexcheck.sexcheck) \\\n",
    "--remove <(awk '{if ($4 == 0) print $1,$2}' ${bfile}_sexcheck.sexcheck) \\\n",
    "--make-bed --out ${bfile}_checkedsex\n"
   ]
  },
  {
   "cell_type": "markdown",
   "metadata": {
    "kernel": "SoS"
   },
   "source": [
    "### QC"
   ]
  },
  {
   "cell_type": "code",
   "execution_count": null,
   "metadata": {
    "kernel": "Bash"
   },
   "outputs": [],
   "source": [
    "# MAF 1%\n",
    "# missingness per variant 2% \n",
    "# missingness per sample 2% \n",
    "# HWE test p < 1e-10\n",
    "bfile=\"GSA_sim_checkedsex\"\n",
    "maf_set=0.01\n",
    "geno_set=0.02\n",
    "mind_set=0.02\n",
    "echo $bfile $maf_set $geno_set $mind_set\n",
    "./plink2 --bfile ${bfile} \\\n",
    "--maf ${maf_set} \\\n",
    "--geno 0.2 \\\n",
    "--hwe 1e-6 \\\n",
    "--allow-no-sex \\\n",
    "--make-bed --out ${bfile}_geno02\n",
    "./plink2 --bfile ${bfile}_geno02 \\\n",
    "--hwe 1e-10 include-nonctrl \\\n",
    "--mind 0.2 \\\n",
    "--allow-no-sex \\\n",
    "--make-bed --out ${bfile}_geno02_mind02\n",
    "./plink2 --bfile ${bfile}_geno02_mind02 \\\n",
    "--geno ${geno_set} \\\n",
    "--allow-no-sex \\\n",
    "--make-bed --out ${bfile}_geno02_mind02_geno002\n",
    "./plink2 --bfile ${bfile}_geno02_mind02_geno002 \\\n",
    "--mind ${mind_set} \\\n",
    "--allow-no-sex \\\n",
    "--make-bed --out ${bfile}_geno02_mind02_geno002_mind002"
   ]
  },
  {
   "cell_type": "markdown",
   "metadata": {
    "kernel": "SoS"
   },
   "source": [
    "### relatedness"
   ]
  },
  {
   "cell_type": "code",
   "execution_count": null,
   "metadata": {
    "kernel": "Bash"
   },
   "outputs": [],
   "source": [
    "bfile=\"GSA_sim_checkedsex_geno02_mind02_geno002_mind002\"\n",
    "./king -b ${bfile}.bed \\\n",
    "--related \\\n",
    "--degree 3 \\\n",
    "--prefix ${bfile} \\\n",
    "--cpus 4"
   ]
  },
  {
   "cell_type": "code",
   "execution_count": null,
   "metadata": {
    "kernel": "Bash"
   },
   "outputs": [],
   "source": [
    "# If any relatives were detected, the following command will remove them\n",
    "bfile=\"GSA_sim_checkedsex_geno02_mind02_geno002_mind002\"\n",
    "./plink2 --bfile ${bfile} \\\n",
    "--remove <(awk '{print $1,$2}' ${bfile}.kin0 | tail -n +2) \\\n",
    "--make-bed --out ${bfile}_norelated\n",
    "echo \"Removed sample(s):\"\n",
    "awk '{print $1,$2}' ${bfile}.kin0 | tail -n +2\n"
   ]
  },
  {
   "cell_type": "markdown",
   "metadata": {
    "kernel": "SoS"
   },
   "source": [
    "### PCA"
   ]
  },
  {
   "cell_type": "code",
   "execution_count": null,
   "metadata": {
    "kernel": "Bash"
   },
   "outputs": [],
   "source": [
    "bfile=\"GSA_sim_checkedsex_geno02_mind02_geno002_mind002_norelated\"\n",
    "./plink2 --bfile ${bfile} \\\n",
    "--indep-pairwise 1000 50 0.2 \\\n",
    "--out ${bfile}_pruned\n",
    "./plink2 --bfile ${bfile} \\\n",
    "--extract <(cat ${bfile}_pruned.prune.in) \\\n",
    "--pca --out ${bfile}_eigen\n",
    "rm ${bfile}*prun*"
   ]
  },
  {
   "cell_type": "code",
   "execution_count": null,
   "metadata": {
    "kernel": "R"
   },
   "outputs": [],
   "source": [
    "library(data.table)\n",
    "bfile=\"GSA_sim_checkedsex_geno02_mind02_geno002_mind002_norelated\"\n",
    "eigenvec=fread(paste0(bfile, \"_eigen.eigenvec\"))\n",
    "eigenval=fread(paste0(bfile, \"_eigen.eigenval\"), header=F)\n",
    "p_all=ggplot(eigenvec, aes(x=PC1, y=PC2)) +\n",
    "geom_point() +\n",
    "ggtitle(paste0(\"PC1=\", eigenval[1], \" PC2=\", eigenval[2], \" PC3=\", eigenval[3], \" PC4=\", eigenval[4]))\n",
    "print(p_all)\n"
   ]
  },
  {
   "cell_type": "markdown",
   "metadata": {
    "kernel": "SoS"
   },
   "source": [
    "### GLM\n",
    "association testing"
   ]
  },
  {
   "cell_type": "code",
   "execution_count": null,
   "metadata": {
    "kernel": "Bash"
   },
   "outputs": [],
   "source": [
    "bfile=\"GSA_sim_checkedsex_geno02_mind02_geno002_mind002_norelated\"\n",
    "./plink2 --bfile ${bfile} \\\n",
    "--glm hide-covar \\\n",
    "--covar ${bfile}_eigen.eigenvec \\\n",
    "--covar-name PC1, PC2, PC3, PC4 \\\n",
    "--out ${bfile}\n"
   ]
  },
  {
   "cell_type": "code",
   "execution_count": null,
   "metadata": {
    "kernel": "R"
   },
   "outputs": [],
   "source": [
    "library(data.table)\n",
    "glmfile=\"GSA_sim_checkedsex_geno02_mind02_geno002_mind002_norelated.PHENO1.glm.logistic\"\n",
    "lapply(c(\"qqman\"), require, character.only = TRUE)\n",
    "assoc_pc=fread(glmfile)\n",
    "assoc_pc[`#CHROM` == \"X\", `#CHROM` := \"23\"]\n",
    "assoc_pc=assoc_pc[, `#CHROM` := as.numeric(`#CHROM`)][!is.na(P) & !is.na(`#CHROM`)]\n",
    "# producing Manhattan plot\n",
    "jpeg(paste0(glmfile, \"_manh.jpeg\"), width = 12, height = 6, units = \"in\", res = 300)\n",
    "print(manhattan(rbind(assoc_pc[P<5e-2], assoc_pc[P>5e-2][seq(1,nrow(assoc_pc[P>5e-2]),10)]), chr=\"#CHROM\", bp=\"POS\", p=\"P\", snp=\"ID\", annotatePval = 1, annotateTop = T, col=palette()))\n",
    "dev.off()\n",
    "# producing Q-Q plot\n",
    "jpeg(paste0(glmfile, \"_qq.jpeg\"), width = 6, height = 6, units = \"in\", res = 300)\n",
    "print(qq(assoc_pc$P))\n",
    "dev.off()\n"
   ]
  },
  {
   "cell_type": "markdown",
   "metadata": {
    "kernel": "SoS"
   },
   "source": [
    "![manh](GSA_sim_checkedsex_geno02_mind02_geno002_mind002_norelated.PHENO1.glm.logistic_manh.jpeg)"
   ]
  },
  {
   "cell_type": "markdown",
   "metadata": {
    "kernel": "SoS"
   },
   "source": [
    "![qq](GSA_sim_checkedsex_geno02_mind02_geno002_mind002_norelated.PHENO1.glm.logistic_qq.jpeg)"
   ]
  }
 ],
 "metadata": {
  "kernelspec": {
   "display_name": "SoS",
   "language": "sos",
   "name": "sos"
  },
  "language_info": {
   "codemirror_mode": "sos",
   "file_extension": ".sos",
   "mimetype": "text/x-sos",
   "name": "sos",
   "nbconvert_exporter": "sos_notebook.converter.SoS_Exporter",
   "pygments_lexer": "sos"
  },
  "sos": {
   "kernels": [
    [
     "Bash",
     "calysto_bash",
     "Bash",
     "#E6EEFF",
     ""
    ],
    [
     "R",
     "ir",
     "R",
     "#DCDCDA",
     ""
    ],
    [
     "SoS",
     "sos",
     "",
     "",
     "sos"
    ]
   ],
   "panel": {
    "displayed": true,
    "height": 0
   },
   "version": "0.21.7"
  }
 },
 "nbformat": 4,
 "nbformat_minor": 4
}
